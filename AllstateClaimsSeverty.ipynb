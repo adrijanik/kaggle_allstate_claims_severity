{
 "cells": [
  {
   "cell_type": "markdown",
   "metadata": {},
   "source": [
    "# Allstate claims severity - Kaggle challenge"
   ]
  },
  {
   "cell_type": "markdown",
   "metadata": {},
   "source": [
    "## Intro\n",
    "When you’ve been devastated by a serious car accident, your focus is on the things that matter the most: family, friends, and other loved ones. Pushing paper with your insurance agent is the last place you want your time or mental energy spent. This is why Allstate, a personal insurer in the United States, is continually seeking fresh ideas to improve their claims service for the over 16 million households they protect. Allstate is currently developing automated methods of predicting the cost, and hence severity, of claims. In this recruitment challenge, Kagglers are invited to show off their creativity and flex their technical chops by creating an algorithm which accurately predicts claims severity. Aspiring competitors will demonstrate insight into better ways to predict claims severity for the chance to be part of Allstate’s efforts to ensure a worry-free customer experience...\n",
    "\n",
    "## Content:\n",
    "1. Housekeeping and Imports\n",
    "2. Data Loading\n",
    "3. Data Exploration\n",
    "4. Data Cleaning\n",
    "5. Feature Engineering\n",
    "6. Data Transformation and Preparation\n",
    "7. Model Exploration and Performance Analysis\n",
    "8. Final Model Building\n",
    "9. Prediction on test set\n"
   ]
  },
  {
   "cell_type": "markdown",
   "metadata": {},
   "source": [
    "## 1. Housekeeping and Imports"
   ]
  },
  {
   "cell_type": "markdown",
   "metadata": {},
   "source": [
    "For importing libraries necessary for the project, and for basic preprocessing functions (ex: typset conversion for NLP projects). "
   ]
  },
  {
   "cell_type": "code",
   "execution_count": 1,
   "metadata": {},
   "outputs": [
    {
     "name": "stderr",
     "output_type": "stream",
     "text": [
      "Installing package into ‘/home/adri/R/x86_64-pc-linux-gnu-library/3.4’\n",
      "(as ‘lib’ is unspecified)\n",
      "Installing package into ‘/home/adri/R/x86_64-pc-linux-gnu-library/3.4’\n",
      "(as ‘lib’ is unspecified)\n",
      "Installing package into ‘/home/adri/R/x86_64-pc-linux-gnu-library/3.4’\n",
      "(as ‘lib’ is unspecified)\n",
      "Installing package into ‘/home/adri/R/x86_64-pc-linux-gnu-library/3.4’\n",
      "(as ‘lib’ is unspecified)\n"
     ]
    }
   ],
   "source": [
    "install.packages('data.table')\n",
    "install.packages('Matrix')\n",
    "install.packages('Metrics')\n",
    "install.packages(\"xgboost\")"
   ]
  },
  {
   "cell_type": "code",
   "execution_count": 2,
   "metadata": {
    "collapsed": true
   },
   "outputs": [],
   "source": [
    "library(data.table)\n",
    "library(Matrix)\n",
    "library(xgboost)\n",
    "library(Metrics)"
   ]
  },
  {
   "cell_type": "markdown",
   "metadata": {},
   "source": [
    "## 2. Data Loading"
   ]
  },
  {
   "cell_type": "markdown",
   "metadata": {},
   "source": [
    "For loading data files into appropriate variables."
   ]
  },
  {
   "cell_type": "code",
   "execution_count": 17,
   "metadata": {},
   "outputs": [],
   "source": [
    "TRAIN_FILE = \"../train.csv\"\n",
    "TEST_FILE = \"../test.csv\"\n",
    "SUBMISSION_FILE = \"../sample_submission.csv\"\n",
    "\n",
    "# Reads a file in table format and creates a data frame from it, \n",
    "# with cases corresponding to lines and variables to fields in the file.\n",
    "\n",
    "train = fread(TRAIN_FILE, showProgress = TRUE)\n",
    "test = fread(TEST_FILE, showProgress = TRUE)"
   ]
  },
  {
   "cell_type": "code",
   "execution_count": null,
   "metadata": {},
   "outputs": [],
   "source": []
  },
  {
   "cell_type": "markdown",
   "metadata": {},
   "source": [
    "## 3. Data Exploration"
   ]
  },
  {
   "cell_type": "markdown",
   "metadata": {},
   "source": [
    "Section for **exploratory analysis** on the available data. \n",
    "\n",
    "The exploration techniques vary for numerical, categorical, or time-series variables. Currently, \n",
    "\n",
    "Here we typically:\n",
    "\n",
    "- look at example records in the dataset\n",
    "- investigate the datatypes of variables in the dataset\n",
    "- calculate and investigate descriptive statistics (ex: central tendencies, variability etc.)\n",
    "- investigate distribution of feature vectors (ex: to check for skewness and outliers)\n",
    "- investigate distribution of prediction vector\n",
    "- check out the relationship (ex: correlation) between different features\n",
    "- check out the relationship between feature vectors and prediction vector\n",
    "\n",
    "Common steps to check the health of the data:\n",
    "\n",
    "- Check for missing data\n",
    "- Check the skewness of the data, outlier detection\n",
    "- etc..."
   ]
  },
  {
   "cell_type": "markdown",
   "metadata": {},
   "source": [
    "### Example Records"
   ]
  },
  {
   "cell_type": "code",
   "execution_count": 18,
   "metadata": {},
   "outputs": [
    {
     "data": {
      "text/html": [
       "<table>\n",
       "<thead><tr><th scope=col>id</th><th scope=col>cat1</th><th scope=col>cat2</th><th scope=col>cat3</th><th scope=col>cat4</th><th scope=col>cat5</th><th scope=col>cat6</th><th scope=col>cat7</th><th scope=col>cat8</th><th scope=col>cat9</th><th scope=col>⋯</th><th scope=col>cont6</th><th scope=col>cont7</th><th scope=col>cont8</th><th scope=col>cont9</th><th scope=col>cont10</th><th scope=col>cont11</th><th scope=col>cont12</th><th scope=col>cont13</th><th scope=col>cont14</th><th scope=col>loss</th></tr></thead>\n",
       "<tbody>\n",
       "\t<tr><td> 1      </td><td>A       </td><td>B       </td><td>A       </td><td>B       </td><td>A       </td><td>A       </td><td>A       </td><td>A       </td><td>B       </td><td>⋯       </td><td>0.718367</td><td>0.335060</td><td>0.30260 </td><td>0.67135 </td><td>0.83510 </td><td>0.569745</td><td>0.594646</td><td>0.822493</td><td>0.714843</td><td> 2213.18</td></tr>\n",
       "\t<tr><td> 2      </td><td>A       </td><td>B       </td><td>A       </td><td>A       </td><td>A       </td><td>A       </td><td>A       </td><td>A       </td><td>B       </td><td>⋯       </td><td>0.438917</td><td>0.436585</td><td>0.60087 </td><td>0.35127 </td><td>0.43919 </td><td>0.338312</td><td>0.366307</td><td>0.611431</td><td>0.304496</td><td> 1283.60</td></tr>\n",
       "\t<tr><td> 5      </td><td>A       </td><td>B       </td><td>A       </td><td>A       </td><td>B       </td><td>A       </td><td>A       </td><td>A       </td><td>B       </td><td>⋯       </td><td>0.289648</td><td>0.315545</td><td>0.27320 </td><td>0.26076 </td><td>0.32446 </td><td>0.381398</td><td>0.373424</td><td>0.195709</td><td>0.774425</td><td> 3005.09</td></tr>\n",
       "\t<tr><td>10      </td><td>B       </td><td>B       </td><td>A       </td><td>B       </td><td>A       </td><td>A       </td><td>A       </td><td>A       </td><td>B       </td><td>⋯       </td><td>0.440945</td><td>0.391128</td><td>0.31796 </td><td>0.32128 </td><td>0.44467 </td><td>0.327915</td><td>0.321570</td><td>0.605077</td><td>0.602642</td><td>  939.85</td></tr>\n",
       "\t<tr><td>11      </td><td>A       </td><td>B       </td><td>A       </td><td>B       </td><td>A       </td><td>A       </td><td>A       </td><td>A       </td><td>B       </td><td>⋯       </td><td>0.178193</td><td>0.247408</td><td>0.24564 </td><td>0.22089 </td><td>0.21230 </td><td>0.204687</td><td>0.202213</td><td>0.246011</td><td>0.432606</td><td> 2763.85</td></tr>\n",
       "\t<tr><td>13      </td><td>A       </td><td>B       </td><td>A       </td><td>A       </td><td>A       </td><td>A       </td><td>A       </td><td>A       </td><td>B       </td><td>⋯       </td><td>0.364464</td><td>0.401162</td><td>0.26847 </td><td>0.46226 </td><td>0.50556 </td><td>0.366788</td><td>0.359249</td><td>0.345247</td><td>0.726792</td><td> 5142.87</td></tr>\n",
       "\t<tr><td>14      </td><td>A       </td><td>A       </td><td>A       </td><td>A       </td><td>B       </td><td>A       </td><td>A       </td><td>A       </td><td>A       </td><td>⋯       </td><td>0.381515</td><td>0.363768</td><td>0.24564 </td><td>0.40455 </td><td>0.47225 </td><td>0.334828</td><td>0.352251</td><td>0.342239</td><td>0.382931</td><td> 1132.22</td></tr>\n",
       "\t<tr><td>20      </td><td>A       </td><td>B       </td><td>A       </td><td>B       </td><td>A       </td><td>A       </td><td>A       </td><td>A       </td><td>B       </td><td>⋯       </td><td>0.867021</td><td>0.583389</td><td>0.90267 </td><td>0.84847 </td><td>0.80218 </td><td>0.644013</td><td>0.785706</td><td>0.859764</td><td>0.242416</td><td> 3585.75</td></tr>\n",
       "\t<tr><td>23      </td><td>A       </td><td>B       </td><td>B       </td><td>B       </td><td>B       </td><td>A       </td><td>A       </td><td>A       </td><td>B       </td><td>⋯       </td><td>0.628534</td><td>0.384099</td><td>0.61229 </td><td>0.38249 </td><td>0.51111 </td><td>0.682315</td><td>0.669033</td><td>0.756454</td><td>0.361191</td><td>10280.20</td></tr>\n",
       "\t<tr><td>24      </td><td>A       </td><td>B       </td><td>A       </td><td>A       </td><td>B       </td><td>B       </td><td>A       </td><td>A       </td><td>B       </td><td>⋯       </td><td>0.713343</td><td>0.469223</td><td>0.30260 </td><td>0.67135 </td><td>0.83510 </td><td>0.863052</td><td>0.879347</td><td>0.822493</td><td>0.294523</td><td> 6184.59</td></tr>\n",
       "</tbody>\n",
       "</table>\n"
      ],
      "text/latex": [
       "\\begin{tabular}{r|llllllllllllllllllllllllllllllllllllllllllllllllllllllllllllllllllllllllllllllllllllllllllllllllllllllllllllllllllllllllllllllllllll}\n",
       " id & cat1 & cat2 & cat3 & cat4 & cat5 & cat6 & cat7 & cat8 & cat9 & ⋯ & cont6 & cont7 & cont8 & cont9 & cont10 & cont11 & cont12 & cont13 & cont14 & loss\\\\\n",
       "\\hline\n",
       "\t  1       & A        & B        & A        & B        & A        & A        & A        & A        & B        & ⋯        & 0.718367 & 0.335060 & 0.30260  & 0.67135  & 0.83510  & 0.569745 & 0.594646 & 0.822493 & 0.714843 &  2213.18\\\\\n",
       "\t  2       & A        & B        & A        & A        & A        & A        & A        & A        & B        & ⋯        & 0.438917 & 0.436585 & 0.60087  & 0.35127  & 0.43919  & 0.338312 & 0.366307 & 0.611431 & 0.304496 &  1283.60\\\\\n",
       "\t  5       & A        & B        & A        & A        & B        & A        & A        & A        & B        & ⋯        & 0.289648 & 0.315545 & 0.27320  & 0.26076  & 0.32446  & 0.381398 & 0.373424 & 0.195709 & 0.774425 &  3005.09\\\\\n",
       "\t 10       & B        & B        & A        & B        & A        & A        & A        & A        & B        & ⋯        & 0.440945 & 0.391128 & 0.31796  & 0.32128  & 0.44467  & 0.327915 & 0.321570 & 0.605077 & 0.602642 &   939.85\\\\\n",
       "\t 11       & A        & B        & A        & B        & A        & A        & A        & A        & B        & ⋯        & 0.178193 & 0.247408 & 0.24564  & 0.22089  & 0.21230  & 0.204687 & 0.202213 & 0.246011 & 0.432606 &  2763.85\\\\\n",
       "\t 13       & A        & B        & A        & A        & A        & A        & A        & A        & B        & ⋯        & 0.364464 & 0.401162 & 0.26847  & 0.46226  & 0.50556  & 0.366788 & 0.359249 & 0.345247 & 0.726792 &  5142.87\\\\\n",
       "\t 14       & A        & A        & A        & A        & B        & A        & A        & A        & A        & ⋯        & 0.381515 & 0.363768 & 0.24564  & 0.40455  & 0.47225  & 0.334828 & 0.352251 & 0.342239 & 0.382931 &  1132.22\\\\\n",
       "\t 20       & A        & B        & A        & B        & A        & A        & A        & A        & B        & ⋯        & 0.867021 & 0.583389 & 0.90267  & 0.84847  & 0.80218  & 0.644013 & 0.785706 & 0.859764 & 0.242416 &  3585.75\\\\\n",
       "\t 23       & A        & B        & B        & B        & B        & A        & A        & A        & B        & ⋯        & 0.628534 & 0.384099 & 0.61229  & 0.38249  & 0.51111  & 0.682315 & 0.669033 & 0.756454 & 0.361191 & 10280.20\\\\\n",
       "\t 24       & A        & B        & A        & A        & B        & B        & A        & A        & B        & ⋯        & 0.713343 & 0.469223 & 0.30260  & 0.67135  & 0.83510  & 0.863052 & 0.879347 & 0.822493 & 0.294523 &  6184.59\\\\\n",
       "\\end{tabular}\n"
      ],
      "text/markdown": [
       "\n",
       "id | cat1 | cat2 | cat3 | cat4 | cat5 | cat6 | cat7 | cat8 | cat9 | ⋯ | cont6 | cont7 | cont8 | cont9 | cont10 | cont11 | cont12 | cont13 | cont14 | loss | \n",
       "|---|---|---|---|---|---|---|---|---|---|\n",
       "|  1       | A        | B        | A        | B        | A        | A        | A        | A        | B        | ⋯        | 0.718367 | 0.335060 | 0.30260  | 0.67135  | 0.83510  | 0.569745 | 0.594646 | 0.822493 | 0.714843 |  2213.18 | \n",
       "|  2       | A        | B        | A        | A        | A        | A        | A        | A        | B        | ⋯        | 0.438917 | 0.436585 | 0.60087  | 0.35127  | 0.43919  | 0.338312 | 0.366307 | 0.611431 | 0.304496 |  1283.60 | \n",
       "|  5       | A        | B        | A        | A        | B        | A        | A        | A        | B        | ⋯        | 0.289648 | 0.315545 | 0.27320  | 0.26076  | 0.32446  | 0.381398 | 0.373424 | 0.195709 | 0.774425 |  3005.09 | \n",
       "| 10       | B        | B        | A        | B        | A        | A        | A        | A        | B        | ⋯        | 0.440945 | 0.391128 | 0.31796  | 0.32128  | 0.44467  | 0.327915 | 0.321570 | 0.605077 | 0.602642 |   939.85 | \n",
       "| 11       | A        | B        | A        | B        | A        | A        | A        | A        | B        | ⋯        | 0.178193 | 0.247408 | 0.24564  | 0.22089  | 0.21230  | 0.204687 | 0.202213 | 0.246011 | 0.432606 |  2763.85 | \n",
       "| 13       | A        | B        | A        | A        | A        | A        | A        | A        | B        | ⋯        | 0.364464 | 0.401162 | 0.26847  | 0.46226  | 0.50556  | 0.366788 | 0.359249 | 0.345247 | 0.726792 |  5142.87 | \n",
       "| 14       | A        | A        | A        | A        | B        | A        | A        | A        | A        | ⋯        | 0.381515 | 0.363768 | 0.24564  | 0.40455  | 0.47225  | 0.334828 | 0.352251 | 0.342239 | 0.382931 |  1132.22 | \n",
       "| 20       | A        | B        | A        | B        | A        | A        | A        | A        | B        | ⋯        | 0.867021 | 0.583389 | 0.90267  | 0.84847  | 0.80218  | 0.644013 | 0.785706 | 0.859764 | 0.242416 |  3585.75 | \n",
       "| 23       | A        | B        | B        | B        | B        | A        | A        | A        | B        | ⋯        | 0.628534 | 0.384099 | 0.61229  | 0.38249  | 0.51111  | 0.682315 | 0.669033 | 0.756454 | 0.361191 | 10280.20 | \n",
       "| 24       | A        | B        | A        | A        | B        | B        | A        | A        | B        | ⋯        | 0.713343 | 0.469223 | 0.30260  | 0.67135  | 0.83510  | 0.863052 | 0.879347 | 0.822493 | 0.294523 |  6184.59 | \n",
       "\n",
       "\n"
      ],
      "text/plain": [
       "   id cat1 cat2 cat3 cat4 cat5 cat6 cat7 cat8 cat9 ⋯ cont6    cont7    cont8  \n",
       "1   1 A    B    A    B    A    A    A    A    B    ⋯ 0.718367 0.335060 0.30260\n",
       "2   2 A    B    A    A    A    A    A    A    B    ⋯ 0.438917 0.436585 0.60087\n",
       "3   5 A    B    A    A    B    A    A    A    B    ⋯ 0.289648 0.315545 0.27320\n",
       "4  10 B    B    A    B    A    A    A    A    B    ⋯ 0.440945 0.391128 0.31796\n",
       "5  11 A    B    A    B    A    A    A    A    B    ⋯ 0.178193 0.247408 0.24564\n",
       "6  13 A    B    A    A    A    A    A    A    B    ⋯ 0.364464 0.401162 0.26847\n",
       "7  14 A    A    A    A    B    A    A    A    A    ⋯ 0.381515 0.363768 0.24564\n",
       "8  20 A    B    A    B    A    A    A    A    B    ⋯ 0.867021 0.583389 0.90267\n",
       "9  23 A    B    B    B    B    A    A    A    B    ⋯ 0.628534 0.384099 0.61229\n",
       "10 24 A    B    A    A    B    B    A    A    B    ⋯ 0.713343 0.469223 0.30260\n",
       "   cont9   cont10  cont11   cont12   cont13   cont14   loss    \n",
       "1  0.67135 0.83510 0.569745 0.594646 0.822493 0.714843  2213.18\n",
       "2  0.35127 0.43919 0.338312 0.366307 0.611431 0.304496  1283.60\n",
       "3  0.26076 0.32446 0.381398 0.373424 0.195709 0.774425  3005.09\n",
       "4  0.32128 0.44467 0.327915 0.321570 0.605077 0.602642   939.85\n",
       "5  0.22089 0.21230 0.204687 0.202213 0.246011 0.432606  2763.85\n",
       "6  0.46226 0.50556 0.366788 0.359249 0.345247 0.726792  5142.87\n",
       "7  0.40455 0.47225 0.334828 0.352251 0.342239 0.382931  1132.22\n",
       "8  0.84847 0.80218 0.644013 0.785706 0.859764 0.242416  3585.75\n",
       "9  0.38249 0.51111 0.682315 0.669033 0.756454 0.361191 10280.20\n",
       "10 0.67135 0.83510 0.863052 0.879347 0.822493 0.294523  6184.59"
      ]
     },
     "metadata": {},
     "output_type": "display_data"
    }
   ],
   "source": [
    "head(train, n = 10)"
   ]
  },
  {
   "cell_type": "code",
   "execution_count": 19,
   "metadata": {},
   "outputs": [
    {
     "data": {
      "text/html": [
       "<table>\n",
       "<thead><tr><th scope=col>id</th><th scope=col>cat1</th><th scope=col>cat2</th><th scope=col>cat3</th><th scope=col>cat4</th><th scope=col>cat5</th><th scope=col>cat6</th><th scope=col>cat7</th><th scope=col>cat8</th><th scope=col>cat9</th><th scope=col>⋯</th><th scope=col>cont5</th><th scope=col>cont6</th><th scope=col>cont7</th><th scope=col>cont8</th><th scope=col>cont9</th><th scope=col>cont10</th><th scope=col>cont11</th><th scope=col>cont12</th><th scope=col>cont13</th><th scope=col>cont14</th></tr></thead>\n",
       "<tbody>\n",
       "\t<tr><td> 4      </td><td>A       </td><td>B       </td><td>A       </td><td>A       </td><td>A       </td><td>A       </td><td>A       </td><td>A       </td><td>B       </td><td>⋯       </td><td>0.281143</td><td>0.466591</td><td>0.317681</td><td>0.61229 </td><td>0.34365 </td><td>0.38016 </td><td>0.377724</td><td>0.369858</td><td>0.704052</td><td>0.392562</td></tr>\n",
       "\t<tr><td> 6      </td><td>A       </td><td>B       </td><td>A       </td><td>B       </td><td>A       </td><td>A       </td><td>A       </td><td>A       </td><td>B       </td><td>⋯       </td><td>0.836443</td><td>0.482425</td><td>0.443760</td><td>0.71330 </td><td>0.51890 </td><td>0.60401 </td><td>0.689039</td><td>0.675759</td><td>0.453468</td><td>0.208045</td></tr>\n",
       "\t<tr><td> 9      </td><td>A       </td><td>B       </td><td>A       </td><td>B       </td><td>B       </td><td>A       </td><td>B       </td><td>A       </td><td>B       </td><td>⋯       </td><td>0.718531</td><td>0.212308</td><td>0.325779</td><td>0.29758 </td><td>0.34365 </td><td>0.30529 </td><td>0.245410</td><td>0.241676</td><td>0.258586</td><td>0.297232</td></tr>\n",
       "\t<tr><td>12      </td><td>A       </td><td>A       </td><td>A       </td><td>A       </td><td>B       </td><td>A       </td><td>A       </td><td>A       </td><td>A       </td><td>⋯       </td><td>0.397069</td><td>0.369930</td><td>0.342355</td><td>0.40028 </td><td>0.33237 </td><td>0.31480 </td><td>0.348867</td><td>0.341872</td><td>0.592264</td><td>0.555955</td></tr>\n",
       "\t<tr><td>15      </td><td>B       </td><td>A       </td><td>A       </td><td>A       </td><td>A       </td><td>B       </td><td>A       </td><td>A       </td><td>A       </td><td>⋯       </td><td>0.302678</td><td>0.398862</td><td>0.391833</td><td>0.23688 </td><td>0.43731 </td><td>0.50556 </td><td>0.359572</td><td>0.352251</td><td>0.301535</td><td>0.825823</td></tr>\n",
       "\t<tr><td>17      </td><td>A       </td><td>A       </td><td>A       </td><td>A       </td><td>B       </td><td>A       </td><td>A       </td><td>A       </td><td>A       </td><td>⋯       </td><td>0.643315</td><td>0.407351</td><td>0.390540</td><td>0.46477 </td><td>0.46853 </td><td>0.50556 </td><td>0.607500</td><td>0.594646</td><td>0.250991</td><td>0.283976</td></tr>\n",
       "\t<tr><td>21      </td><td>B       </td><td>A       </td><td>A       </td><td>A       </td><td>B       </td><td>B       </td><td>A       </td><td>A       </td><td>A       </td><td>⋯       </td><td>0.281143</td><td>0.960845</td><td>0.740081</td><td>0.75964 </td><td>0.98330 </td><td>0.82249 </td><td>0.863052</td><td>0.879347</td><td>0.888944</td><td>0.787807</td></tr>\n",
       "\t<tr><td>28      </td><td>B       </td><td>B       </td><td>A       </td><td>A       </td><td>A       </td><td>A       </td><td>A       </td><td>A       </td><td>B       </td><td>⋯       </td><td>0.651246</td><td>0.451115</td><td>0.316313</td><td>0.27320 </td><td>0.52100 </td><td>0.50556 </td><td>0.415029</td><td>0.481306</td><td>0.199940</td><td>0.450597</td></tr>\n",
       "\t<tr><td>32      </td><td>A       </td><td>B       </td><td>A       </td><td>A       </td><td>A       </td><td>A       </td><td>A       </td><td>A       </td><td>B       </td><td>⋯       </td><td>0.534484</td><td>0.343492</td><td>0.358758</td><td>0.81900 </td><td>0.32128 </td><td>0.36458 </td><td>0.453334</td><td>0.443374</td><td>0.695650</td><td>0.295075</td></tr>\n",
       "\t<tr><td>43      </td><td>A       </td><td>B       </td><td>A       </td><td>A       </td><td>A       </td><td>A       </td><td>A       </td><td>A       </td><td>B       </td><td>⋯       </td><td>0.281143</td><td>0.394921</td><td>0.287416</td><td>0.92347 </td><td>0.48320 </td><td>0.24766 </td><td>0.359572</td><td>0.352251</td><td>0.519989</td><td>0.602666</td></tr>\n",
       "</tbody>\n",
       "</table>\n"
      ],
      "text/latex": [
       "\\begin{tabular}{r|lllllllllllllllllllllllllllllllllllllllllllllllllllllllllllllllllllllllllllllllllllllllllllllllllllllllllllllllllllllllllllllllllll}\n",
       " id & cat1 & cat2 & cat3 & cat4 & cat5 & cat6 & cat7 & cat8 & cat9 & ⋯ & cont5 & cont6 & cont7 & cont8 & cont9 & cont10 & cont11 & cont12 & cont13 & cont14\\\\\n",
       "\\hline\n",
       "\t  4       & A        & B        & A        & A        & A        & A        & A        & A        & B        & ⋯        & 0.281143 & 0.466591 & 0.317681 & 0.61229  & 0.34365  & 0.38016  & 0.377724 & 0.369858 & 0.704052 & 0.392562\\\\\n",
       "\t  6       & A        & B        & A        & B        & A        & A        & A        & A        & B        & ⋯        & 0.836443 & 0.482425 & 0.443760 & 0.71330  & 0.51890  & 0.60401  & 0.689039 & 0.675759 & 0.453468 & 0.208045\\\\\n",
       "\t  9       & A        & B        & A        & B        & B        & A        & B        & A        & B        & ⋯        & 0.718531 & 0.212308 & 0.325779 & 0.29758  & 0.34365  & 0.30529  & 0.245410 & 0.241676 & 0.258586 & 0.297232\\\\\n",
       "\t 12       & A        & A        & A        & A        & B        & A        & A        & A        & A        & ⋯        & 0.397069 & 0.369930 & 0.342355 & 0.40028  & 0.33237  & 0.31480  & 0.348867 & 0.341872 & 0.592264 & 0.555955\\\\\n",
       "\t 15       & B        & A        & A        & A        & A        & B        & A        & A        & A        & ⋯        & 0.302678 & 0.398862 & 0.391833 & 0.23688  & 0.43731  & 0.50556  & 0.359572 & 0.352251 & 0.301535 & 0.825823\\\\\n",
       "\t 17       & A        & A        & A        & A        & B        & A        & A        & A        & A        & ⋯        & 0.643315 & 0.407351 & 0.390540 & 0.46477  & 0.46853  & 0.50556  & 0.607500 & 0.594646 & 0.250991 & 0.283976\\\\\n",
       "\t 21       & B        & A        & A        & A        & B        & B        & A        & A        & A        & ⋯        & 0.281143 & 0.960845 & 0.740081 & 0.75964  & 0.98330  & 0.82249  & 0.863052 & 0.879347 & 0.888944 & 0.787807\\\\\n",
       "\t 28       & B        & B        & A        & A        & A        & A        & A        & A        & B        & ⋯        & 0.651246 & 0.451115 & 0.316313 & 0.27320  & 0.52100  & 0.50556  & 0.415029 & 0.481306 & 0.199940 & 0.450597\\\\\n",
       "\t 32       & A        & B        & A        & A        & A        & A        & A        & A        & B        & ⋯        & 0.534484 & 0.343492 & 0.358758 & 0.81900  & 0.32128  & 0.36458  & 0.453334 & 0.443374 & 0.695650 & 0.295075\\\\\n",
       "\t 43       & A        & B        & A        & A        & A        & A        & A        & A        & B        & ⋯        & 0.281143 & 0.394921 & 0.287416 & 0.92347  & 0.48320  & 0.24766  & 0.359572 & 0.352251 & 0.519989 & 0.602666\\\\\n",
       "\\end{tabular}\n"
      ],
      "text/markdown": [
       "\n",
       "id | cat1 | cat2 | cat3 | cat4 | cat5 | cat6 | cat7 | cat8 | cat9 | ⋯ | cont5 | cont6 | cont7 | cont8 | cont9 | cont10 | cont11 | cont12 | cont13 | cont14 | \n",
       "|---|---|---|---|---|---|---|---|---|---|\n",
       "|  4       | A        | B        | A        | A        | A        | A        | A        | A        | B        | ⋯        | 0.281143 | 0.466591 | 0.317681 | 0.61229  | 0.34365  | 0.38016  | 0.377724 | 0.369858 | 0.704052 | 0.392562 | \n",
       "|  6       | A        | B        | A        | B        | A        | A        | A        | A        | B        | ⋯        | 0.836443 | 0.482425 | 0.443760 | 0.71330  | 0.51890  | 0.60401  | 0.689039 | 0.675759 | 0.453468 | 0.208045 | \n",
       "|  9       | A        | B        | A        | B        | B        | A        | B        | A        | B        | ⋯        | 0.718531 | 0.212308 | 0.325779 | 0.29758  | 0.34365  | 0.30529  | 0.245410 | 0.241676 | 0.258586 | 0.297232 | \n",
       "| 12       | A        | A        | A        | A        | B        | A        | A        | A        | A        | ⋯        | 0.397069 | 0.369930 | 0.342355 | 0.40028  | 0.33237  | 0.31480  | 0.348867 | 0.341872 | 0.592264 | 0.555955 | \n",
       "| 15       | B        | A        | A        | A        | A        | B        | A        | A        | A        | ⋯        | 0.302678 | 0.398862 | 0.391833 | 0.23688  | 0.43731  | 0.50556  | 0.359572 | 0.352251 | 0.301535 | 0.825823 | \n",
       "| 17       | A        | A        | A        | A        | B        | A        | A        | A        | A        | ⋯        | 0.643315 | 0.407351 | 0.390540 | 0.46477  | 0.46853  | 0.50556  | 0.607500 | 0.594646 | 0.250991 | 0.283976 | \n",
       "| 21       | B        | A        | A        | A        | B        | B        | A        | A        | A        | ⋯        | 0.281143 | 0.960845 | 0.740081 | 0.75964  | 0.98330  | 0.82249  | 0.863052 | 0.879347 | 0.888944 | 0.787807 | \n",
       "| 28       | B        | B        | A        | A        | A        | A        | A        | A        | B        | ⋯        | 0.651246 | 0.451115 | 0.316313 | 0.27320  | 0.52100  | 0.50556  | 0.415029 | 0.481306 | 0.199940 | 0.450597 | \n",
       "| 32       | A        | B        | A        | A        | A        | A        | A        | A        | B        | ⋯        | 0.534484 | 0.343492 | 0.358758 | 0.81900  | 0.32128  | 0.36458  | 0.453334 | 0.443374 | 0.695650 | 0.295075 | \n",
       "| 43       | A        | B        | A        | A        | A        | A        | A        | A        | B        | ⋯        | 0.281143 | 0.394921 | 0.287416 | 0.92347  | 0.48320  | 0.24766  | 0.359572 | 0.352251 | 0.519989 | 0.602666 | \n",
       "\n",
       "\n"
      ],
      "text/plain": [
       "   id cat1 cat2 cat3 cat4 cat5 cat6 cat7 cat8 cat9 ⋯ cont5    cont6    cont7   \n",
       "1   4 A    B    A    A    A    A    A    A    B    ⋯ 0.281143 0.466591 0.317681\n",
       "2   6 A    B    A    B    A    A    A    A    B    ⋯ 0.836443 0.482425 0.443760\n",
       "3   9 A    B    A    B    B    A    B    A    B    ⋯ 0.718531 0.212308 0.325779\n",
       "4  12 A    A    A    A    B    A    A    A    A    ⋯ 0.397069 0.369930 0.342355\n",
       "5  15 B    A    A    A    A    B    A    A    A    ⋯ 0.302678 0.398862 0.391833\n",
       "6  17 A    A    A    A    B    A    A    A    A    ⋯ 0.643315 0.407351 0.390540\n",
       "7  21 B    A    A    A    B    B    A    A    A    ⋯ 0.281143 0.960845 0.740081\n",
       "8  28 B    B    A    A    A    A    A    A    B    ⋯ 0.651246 0.451115 0.316313\n",
       "9  32 A    B    A    A    A    A    A    A    B    ⋯ 0.534484 0.343492 0.358758\n",
       "10 43 A    B    A    A    A    A    A    A    B    ⋯ 0.281143 0.394921 0.287416\n",
       "   cont8   cont9   cont10  cont11   cont12   cont13   cont14  \n",
       "1  0.61229 0.34365 0.38016 0.377724 0.369858 0.704052 0.392562\n",
       "2  0.71330 0.51890 0.60401 0.689039 0.675759 0.453468 0.208045\n",
       "3  0.29758 0.34365 0.30529 0.245410 0.241676 0.258586 0.297232\n",
       "4  0.40028 0.33237 0.31480 0.348867 0.341872 0.592264 0.555955\n",
       "5  0.23688 0.43731 0.50556 0.359572 0.352251 0.301535 0.825823\n",
       "6  0.46477 0.46853 0.50556 0.607500 0.594646 0.250991 0.283976\n",
       "7  0.75964 0.98330 0.82249 0.863052 0.879347 0.888944 0.787807\n",
       "8  0.27320 0.52100 0.50556 0.415029 0.481306 0.199940 0.450597\n",
       "9  0.81900 0.32128 0.36458 0.453334 0.443374 0.695650 0.295075\n",
       "10 0.92347 0.48320 0.24766 0.359572 0.352251 0.519989 0.602666"
      ]
     },
     "metadata": {},
     "output_type": "display_data"
    }
   ],
   "source": [
    "head(test, n = 10)"
   ]
  },
  {
   "cell_type": "code",
   "execution_count": 20,
   "metadata": {},
   "outputs": [
    {
     "data": {
      "text/html": [
       "<ol class=list-inline>\n",
       "\t<li>188318</li>\n",
       "\t<li>132</li>\n",
       "</ol>\n"
      ],
      "text/latex": [
       "\\begin{enumerate*}\n",
       "\\item 188318\n",
       "\\item 132\n",
       "\\end{enumerate*}\n"
      ],
      "text/markdown": [
       "1. 188318\n",
       "2. 132\n",
       "\n",
       "\n"
      ],
      "text/plain": [
       "[1] 188318    132"
      ]
     },
     "metadata": {},
     "output_type": "display_data"
    }
   ],
   "source": [
    "dim(train) # dimensions of train data"
   ]
  },
  {
   "cell_type": "code",
   "execution_count": 21,
   "metadata": {},
   "outputs": [
    {
     "data": {
      "text/html": [
       "<ol class=list-inline>\n",
       "\t<li>125546</li>\n",
       "\t<li>131</li>\n",
       "</ol>\n"
      ],
      "text/latex": [
       "\\begin{enumerate*}\n",
       "\\item 125546\n",
       "\\item 131\n",
       "\\end{enumerate*}\n"
      ],
      "text/markdown": [
       "1. 125546\n",
       "2. 131\n",
       "\n",
       "\n"
      ],
      "text/plain": [
       "[1] 125546    131"
      ]
     },
     "metadata": {},
     "output_type": "display_data"
    }
   ],
   "source": [
    "dim(test) # dimensions of test data"
   ]
  },
  {
   "cell_type": "markdown",
   "metadata": {},
   "source": [
    "### Data-types, completeness Information"
   ]
  },
  {
   "cell_type": "code",
   "execution_count": 22,
   "metadata": {},
   "outputs": [
    {
     "data": {
      "text/html": [
       "<dl class=dl-horizontal>\n",
       "\t<dt>id</dt>\n",
       "\t\t<dd>'integer'</dd>\n",
       "\t<dt>cat1</dt>\n",
       "\t\t<dd>'character'</dd>\n",
       "\t<dt>cat2</dt>\n",
       "\t\t<dd>'character'</dd>\n",
       "\t<dt>cat3</dt>\n",
       "\t\t<dd>'character'</dd>\n",
       "\t<dt>cat4</dt>\n",
       "\t\t<dd>'character'</dd>\n",
       "\t<dt>cat5</dt>\n",
       "\t\t<dd>'character'</dd>\n",
       "\t<dt>cat6</dt>\n",
       "\t\t<dd>'character'</dd>\n",
       "\t<dt>cat7</dt>\n",
       "\t\t<dd>'character'</dd>\n",
       "\t<dt>cat8</dt>\n",
       "\t\t<dd>'character'</dd>\n",
       "\t<dt>cat9</dt>\n",
       "\t\t<dd>'character'</dd>\n",
       "\t<dt>cat10</dt>\n",
       "\t\t<dd>'character'</dd>\n",
       "\t<dt>cat11</dt>\n",
       "\t\t<dd>'character'</dd>\n",
       "\t<dt>cat12</dt>\n",
       "\t\t<dd>'character'</dd>\n",
       "\t<dt>cat13</dt>\n",
       "\t\t<dd>'character'</dd>\n",
       "\t<dt>cat14</dt>\n",
       "\t\t<dd>'character'</dd>\n",
       "\t<dt>cat15</dt>\n",
       "\t\t<dd>'character'</dd>\n",
       "\t<dt>cat16</dt>\n",
       "\t\t<dd>'character'</dd>\n",
       "\t<dt>cat17</dt>\n",
       "\t\t<dd>'character'</dd>\n",
       "\t<dt>cat18</dt>\n",
       "\t\t<dd>'character'</dd>\n",
       "\t<dt>cat19</dt>\n",
       "\t\t<dd>'character'</dd>\n",
       "\t<dt>cat20</dt>\n",
       "\t\t<dd>'character'</dd>\n",
       "\t<dt>cat21</dt>\n",
       "\t\t<dd>'character'</dd>\n",
       "\t<dt>cat22</dt>\n",
       "\t\t<dd>'character'</dd>\n",
       "\t<dt>cat23</dt>\n",
       "\t\t<dd>'character'</dd>\n",
       "\t<dt>cat24</dt>\n",
       "\t\t<dd>'character'</dd>\n",
       "\t<dt>cat25</dt>\n",
       "\t\t<dd>'character'</dd>\n",
       "\t<dt>cat26</dt>\n",
       "\t\t<dd>'character'</dd>\n",
       "\t<dt>cat27</dt>\n",
       "\t\t<dd>'character'</dd>\n",
       "\t<dt>cat28</dt>\n",
       "\t\t<dd>'character'</dd>\n",
       "\t<dt>cat29</dt>\n",
       "\t\t<dd>'character'</dd>\n",
       "\t<dt>cat30</dt>\n",
       "\t\t<dd>'character'</dd>\n",
       "\t<dt>cat31</dt>\n",
       "\t\t<dd>'character'</dd>\n",
       "\t<dt>cat32</dt>\n",
       "\t\t<dd>'character'</dd>\n",
       "\t<dt>cat33</dt>\n",
       "\t\t<dd>'character'</dd>\n",
       "\t<dt>cat34</dt>\n",
       "\t\t<dd>'character'</dd>\n",
       "\t<dt>cat35</dt>\n",
       "\t\t<dd>'character'</dd>\n",
       "\t<dt>cat36</dt>\n",
       "\t\t<dd>'character'</dd>\n",
       "\t<dt>cat37</dt>\n",
       "\t\t<dd>'character'</dd>\n",
       "\t<dt>cat38</dt>\n",
       "\t\t<dd>'character'</dd>\n",
       "\t<dt>cat39</dt>\n",
       "\t\t<dd>'character'</dd>\n",
       "\t<dt>cat40</dt>\n",
       "\t\t<dd>'character'</dd>\n",
       "\t<dt>cat41</dt>\n",
       "\t\t<dd>'character'</dd>\n",
       "\t<dt>cat42</dt>\n",
       "\t\t<dd>'character'</dd>\n",
       "\t<dt>cat43</dt>\n",
       "\t\t<dd>'character'</dd>\n",
       "\t<dt>cat44</dt>\n",
       "\t\t<dd>'character'</dd>\n",
       "\t<dt>cat45</dt>\n",
       "\t\t<dd>'character'</dd>\n",
       "\t<dt>cat46</dt>\n",
       "\t\t<dd>'character'</dd>\n",
       "\t<dt>cat47</dt>\n",
       "\t\t<dd>'character'</dd>\n",
       "\t<dt>cat48</dt>\n",
       "\t\t<dd>'character'</dd>\n",
       "\t<dt>cat49</dt>\n",
       "\t\t<dd>'character'</dd>\n",
       "\t<dt>cat50</dt>\n",
       "\t\t<dd>'character'</dd>\n",
       "\t<dt>cat51</dt>\n",
       "\t\t<dd>'character'</dd>\n",
       "\t<dt>cat52</dt>\n",
       "\t\t<dd>'character'</dd>\n",
       "\t<dt>cat53</dt>\n",
       "\t\t<dd>'character'</dd>\n",
       "\t<dt>cat54</dt>\n",
       "\t\t<dd>'character'</dd>\n",
       "\t<dt>cat55</dt>\n",
       "\t\t<dd>'character'</dd>\n",
       "\t<dt>cat56</dt>\n",
       "\t\t<dd>'character'</dd>\n",
       "\t<dt>cat57</dt>\n",
       "\t\t<dd>'character'</dd>\n",
       "\t<dt>cat58</dt>\n",
       "\t\t<dd>'character'</dd>\n",
       "\t<dt>cat59</dt>\n",
       "\t\t<dd>'character'</dd>\n",
       "\t<dt>cat60</dt>\n",
       "\t\t<dd>'character'</dd>\n",
       "\t<dt>cat61</dt>\n",
       "\t\t<dd>'character'</dd>\n",
       "\t<dt>cat62</dt>\n",
       "\t\t<dd>'character'</dd>\n",
       "\t<dt>cat63</dt>\n",
       "\t\t<dd>'character'</dd>\n",
       "\t<dt>cat64</dt>\n",
       "\t\t<dd>'character'</dd>\n",
       "\t<dt>cat65</dt>\n",
       "\t\t<dd>'character'</dd>\n",
       "\t<dt>cat66</dt>\n",
       "\t\t<dd>'character'</dd>\n",
       "\t<dt>cat67</dt>\n",
       "\t\t<dd>'character'</dd>\n",
       "\t<dt>cat68</dt>\n",
       "\t\t<dd>'character'</dd>\n",
       "\t<dt>cat69</dt>\n",
       "\t\t<dd>'character'</dd>\n",
       "\t<dt>cat70</dt>\n",
       "\t\t<dd>'character'</dd>\n",
       "\t<dt>cat71</dt>\n",
       "\t\t<dd>'character'</dd>\n",
       "\t<dt>cat72</dt>\n",
       "\t\t<dd>'character'</dd>\n",
       "\t<dt>cat73</dt>\n",
       "\t\t<dd>'character'</dd>\n",
       "\t<dt>cat74</dt>\n",
       "\t\t<dd>'character'</dd>\n",
       "\t<dt>cat75</dt>\n",
       "\t\t<dd>'character'</dd>\n",
       "\t<dt>cat76</dt>\n",
       "\t\t<dd>'character'</dd>\n",
       "\t<dt>cat77</dt>\n",
       "\t\t<dd>'character'</dd>\n",
       "\t<dt>cat78</dt>\n",
       "\t\t<dd>'character'</dd>\n",
       "\t<dt>cat79</dt>\n",
       "\t\t<dd>'character'</dd>\n",
       "\t<dt>cat80</dt>\n",
       "\t\t<dd>'character'</dd>\n",
       "\t<dt>cat81</dt>\n",
       "\t\t<dd>'character'</dd>\n",
       "\t<dt>cat82</dt>\n",
       "\t\t<dd>'character'</dd>\n",
       "\t<dt>cat83</dt>\n",
       "\t\t<dd>'character'</dd>\n",
       "\t<dt>cat84</dt>\n",
       "\t\t<dd>'character'</dd>\n",
       "\t<dt>cat85</dt>\n",
       "\t\t<dd>'character'</dd>\n",
       "\t<dt>cat86</dt>\n",
       "\t\t<dd>'character'</dd>\n",
       "\t<dt>cat87</dt>\n",
       "\t\t<dd>'character'</dd>\n",
       "\t<dt>cat88</dt>\n",
       "\t\t<dd>'character'</dd>\n",
       "\t<dt>cat89</dt>\n",
       "\t\t<dd>'character'</dd>\n",
       "\t<dt>cat90</dt>\n",
       "\t\t<dd>'character'</dd>\n",
       "\t<dt>cat91</dt>\n",
       "\t\t<dd>'character'</dd>\n",
       "\t<dt>cat92</dt>\n",
       "\t\t<dd>'character'</dd>\n",
       "\t<dt>cat93</dt>\n",
       "\t\t<dd>'character'</dd>\n",
       "\t<dt>cat94</dt>\n",
       "\t\t<dd>'character'</dd>\n",
       "\t<dt>cat95</dt>\n",
       "\t\t<dd>'character'</dd>\n",
       "\t<dt>cat96</dt>\n",
       "\t\t<dd>'character'</dd>\n",
       "\t<dt>cat97</dt>\n",
       "\t\t<dd>'character'</dd>\n",
       "\t<dt>cat98</dt>\n",
       "\t\t<dd>'character'</dd>\n",
       "\t<dt>cat99</dt>\n",
       "\t\t<dd>'character'</dd>\n",
       "\t<dt>cat100</dt>\n",
       "\t\t<dd>'character'</dd>\n",
       "\t<dt>cat101</dt>\n",
       "\t\t<dd>'character'</dd>\n",
       "\t<dt>cat102</dt>\n",
       "\t\t<dd>'character'</dd>\n",
       "\t<dt>cat103</dt>\n",
       "\t\t<dd>'character'</dd>\n",
       "\t<dt>cat104</dt>\n",
       "\t\t<dd>'character'</dd>\n",
       "\t<dt>cat105</dt>\n",
       "\t\t<dd>'character'</dd>\n",
       "\t<dt>cat106</dt>\n",
       "\t\t<dd>'character'</dd>\n",
       "\t<dt>cat107</dt>\n",
       "\t\t<dd>'character'</dd>\n",
       "\t<dt>cat108</dt>\n",
       "\t\t<dd>'character'</dd>\n",
       "\t<dt>cat109</dt>\n",
       "\t\t<dd>'character'</dd>\n",
       "\t<dt>cat110</dt>\n",
       "\t\t<dd>'character'</dd>\n",
       "\t<dt>cat111</dt>\n",
       "\t\t<dd>'character'</dd>\n",
       "\t<dt>cat112</dt>\n",
       "\t\t<dd>'character'</dd>\n",
       "\t<dt>cat113</dt>\n",
       "\t\t<dd>'character'</dd>\n",
       "\t<dt>cat114</dt>\n",
       "\t\t<dd>'character'</dd>\n",
       "\t<dt>cat115</dt>\n",
       "\t\t<dd>'character'</dd>\n",
       "\t<dt>cat116</dt>\n",
       "\t\t<dd>'character'</dd>\n",
       "\t<dt>cont1</dt>\n",
       "\t\t<dd>'numeric'</dd>\n",
       "\t<dt>cont2</dt>\n",
       "\t\t<dd>'numeric'</dd>\n",
       "\t<dt>cont3</dt>\n",
       "\t\t<dd>'numeric'</dd>\n",
       "\t<dt>cont4</dt>\n",
       "\t\t<dd>'numeric'</dd>\n",
       "\t<dt>cont5</dt>\n",
       "\t\t<dd>'numeric'</dd>\n",
       "\t<dt>cont6</dt>\n",
       "\t\t<dd>'numeric'</dd>\n",
       "\t<dt>cont7</dt>\n",
       "\t\t<dd>'numeric'</dd>\n",
       "\t<dt>cont8</dt>\n",
       "\t\t<dd>'numeric'</dd>\n",
       "\t<dt>cont9</dt>\n",
       "\t\t<dd>'numeric'</dd>\n",
       "\t<dt>cont10</dt>\n",
       "\t\t<dd>'numeric'</dd>\n",
       "\t<dt>cont11</dt>\n",
       "\t\t<dd>'numeric'</dd>\n",
       "\t<dt>cont12</dt>\n",
       "\t\t<dd>'numeric'</dd>\n",
       "\t<dt>cont13</dt>\n",
       "\t\t<dd>'numeric'</dd>\n",
       "\t<dt>cont14</dt>\n",
       "\t\t<dd>'numeric'</dd>\n",
       "\t<dt>loss</dt>\n",
       "\t\t<dd>'numeric'</dd>\n",
       "</dl>\n"
      ],
      "text/latex": [
       "\\begin{description*}\n",
       "\\item[id] 'integer'\n",
       "\\item[cat1] 'character'\n",
       "\\item[cat2] 'character'\n",
       "\\item[cat3] 'character'\n",
       "\\item[cat4] 'character'\n",
       "\\item[cat5] 'character'\n",
       "\\item[cat6] 'character'\n",
       "\\item[cat7] 'character'\n",
       "\\item[cat8] 'character'\n",
       "\\item[cat9] 'character'\n",
       "\\item[cat10] 'character'\n",
       "\\item[cat11] 'character'\n",
       "\\item[cat12] 'character'\n",
       "\\item[cat13] 'character'\n",
       "\\item[cat14] 'character'\n",
       "\\item[cat15] 'character'\n",
       "\\item[cat16] 'character'\n",
       "\\item[cat17] 'character'\n",
       "\\item[cat18] 'character'\n",
       "\\item[cat19] 'character'\n",
       "\\item[cat20] 'character'\n",
       "\\item[cat21] 'character'\n",
       "\\item[cat22] 'character'\n",
       "\\item[cat23] 'character'\n",
       "\\item[cat24] 'character'\n",
       "\\item[cat25] 'character'\n",
       "\\item[cat26] 'character'\n",
       "\\item[cat27] 'character'\n",
       "\\item[cat28] 'character'\n",
       "\\item[cat29] 'character'\n",
       "\\item[cat30] 'character'\n",
       "\\item[cat31] 'character'\n",
       "\\item[cat32] 'character'\n",
       "\\item[cat33] 'character'\n",
       "\\item[cat34] 'character'\n",
       "\\item[cat35] 'character'\n",
       "\\item[cat36] 'character'\n",
       "\\item[cat37] 'character'\n",
       "\\item[cat38] 'character'\n",
       "\\item[cat39] 'character'\n",
       "\\item[cat40] 'character'\n",
       "\\item[cat41] 'character'\n",
       "\\item[cat42] 'character'\n",
       "\\item[cat43] 'character'\n",
       "\\item[cat44] 'character'\n",
       "\\item[cat45] 'character'\n",
       "\\item[cat46] 'character'\n",
       "\\item[cat47] 'character'\n",
       "\\item[cat48] 'character'\n",
       "\\item[cat49] 'character'\n",
       "\\item[cat50] 'character'\n",
       "\\item[cat51] 'character'\n",
       "\\item[cat52] 'character'\n",
       "\\item[cat53] 'character'\n",
       "\\item[cat54] 'character'\n",
       "\\item[cat55] 'character'\n",
       "\\item[cat56] 'character'\n",
       "\\item[cat57] 'character'\n",
       "\\item[cat58] 'character'\n",
       "\\item[cat59] 'character'\n",
       "\\item[cat60] 'character'\n",
       "\\item[cat61] 'character'\n",
       "\\item[cat62] 'character'\n",
       "\\item[cat63] 'character'\n",
       "\\item[cat64] 'character'\n",
       "\\item[cat65] 'character'\n",
       "\\item[cat66] 'character'\n",
       "\\item[cat67] 'character'\n",
       "\\item[cat68] 'character'\n",
       "\\item[cat69] 'character'\n",
       "\\item[cat70] 'character'\n",
       "\\item[cat71] 'character'\n",
       "\\item[cat72] 'character'\n",
       "\\item[cat73] 'character'\n",
       "\\item[cat74] 'character'\n",
       "\\item[cat75] 'character'\n",
       "\\item[cat76] 'character'\n",
       "\\item[cat77] 'character'\n",
       "\\item[cat78] 'character'\n",
       "\\item[cat79] 'character'\n",
       "\\item[cat80] 'character'\n",
       "\\item[cat81] 'character'\n",
       "\\item[cat82] 'character'\n",
       "\\item[cat83] 'character'\n",
       "\\item[cat84] 'character'\n",
       "\\item[cat85] 'character'\n",
       "\\item[cat86] 'character'\n",
       "\\item[cat87] 'character'\n",
       "\\item[cat88] 'character'\n",
       "\\item[cat89] 'character'\n",
       "\\item[cat90] 'character'\n",
       "\\item[cat91] 'character'\n",
       "\\item[cat92] 'character'\n",
       "\\item[cat93] 'character'\n",
       "\\item[cat94] 'character'\n",
       "\\item[cat95] 'character'\n",
       "\\item[cat96] 'character'\n",
       "\\item[cat97] 'character'\n",
       "\\item[cat98] 'character'\n",
       "\\item[cat99] 'character'\n",
       "\\item[cat100] 'character'\n",
       "\\item[cat101] 'character'\n",
       "\\item[cat102] 'character'\n",
       "\\item[cat103] 'character'\n",
       "\\item[cat104] 'character'\n",
       "\\item[cat105] 'character'\n",
       "\\item[cat106] 'character'\n",
       "\\item[cat107] 'character'\n",
       "\\item[cat108] 'character'\n",
       "\\item[cat109] 'character'\n",
       "\\item[cat110] 'character'\n",
       "\\item[cat111] 'character'\n",
       "\\item[cat112] 'character'\n",
       "\\item[cat113] 'character'\n",
       "\\item[cat114] 'character'\n",
       "\\item[cat115] 'character'\n",
       "\\item[cat116] 'character'\n",
       "\\item[cont1] 'numeric'\n",
       "\\item[cont2] 'numeric'\n",
       "\\item[cont3] 'numeric'\n",
       "\\item[cont4] 'numeric'\n",
       "\\item[cont5] 'numeric'\n",
       "\\item[cont6] 'numeric'\n",
       "\\item[cont7] 'numeric'\n",
       "\\item[cont8] 'numeric'\n",
       "\\item[cont9] 'numeric'\n",
       "\\item[cont10] 'numeric'\n",
       "\\item[cont11] 'numeric'\n",
       "\\item[cont12] 'numeric'\n",
       "\\item[cont13] 'numeric'\n",
       "\\item[cont14] 'numeric'\n",
       "\\item[loss] 'numeric'\n",
       "\\end{description*}\n"
      ],
      "text/markdown": [
       "id\n",
       ":   'integer'cat1\n",
       ":   'character'cat2\n",
       ":   'character'cat3\n",
       ":   'character'cat4\n",
       ":   'character'cat5\n",
       ":   'character'cat6\n",
       ":   'character'cat7\n",
       ":   'character'cat8\n",
       ":   'character'cat9\n",
       ":   'character'cat10\n",
       ":   'character'cat11\n",
       ":   'character'cat12\n",
       ":   'character'cat13\n",
       ":   'character'cat14\n",
       ":   'character'cat15\n",
       ":   'character'cat16\n",
       ":   'character'cat17\n",
       ":   'character'cat18\n",
       ":   'character'cat19\n",
       ":   'character'cat20\n",
       ":   'character'cat21\n",
       ":   'character'cat22\n",
       ":   'character'cat23\n",
       ":   'character'cat24\n",
       ":   'character'cat25\n",
       ":   'character'cat26\n",
       ":   'character'cat27\n",
       ":   'character'cat28\n",
       ":   'character'cat29\n",
       ":   'character'cat30\n",
       ":   'character'cat31\n",
       ":   'character'cat32\n",
       ":   'character'cat33\n",
       ":   'character'cat34\n",
       ":   'character'cat35\n",
       ":   'character'cat36\n",
       ":   'character'cat37\n",
       ":   'character'cat38\n",
       ":   'character'cat39\n",
       ":   'character'cat40\n",
       ":   'character'cat41\n",
       ":   'character'cat42\n",
       ":   'character'cat43\n",
       ":   'character'cat44\n",
       ":   'character'cat45\n",
       ":   'character'cat46\n",
       ":   'character'cat47\n",
       ":   'character'cat48\n",
       ":   'character'cat49\n",
       ":   'character'cat50\n",
       ":   'character'cat51\n",
       ":   'character'cat52\n",
       ":   'character'cat53\n",
       ":   'character'cat54\n",
       ":   'character'cat55\n",
       ":   'character'cat56\n",
       ":   'character'cat57\n",
       ":   'character'cat58\n",
       ":   'character'cat59\n",
       ":   'character'cat60\n",
       ":   'character'cat61\n",
       ":   'character'cat62\n",
       ":   'character'cat63\n",
       ":   'character'cat64\n",
       ":   'character'cat65\n",
       ":   'character'cat66\n",
       ":   'character'cat67\n",
       ":   'character'cat68\n",
       ":   'character'cat69\n",
       ":   'character'cat70\n",
       ":   'character'cat71\n",
       ":   'character'cat72\n",
       ":   'character'cat73\n",
       ":   'character'cat74\n",
       ":   'character'cat75\n",
       ":   'character'cat76\n",
       ":   'character'cat77\n",
       ":   'character'cat78\n",
       ":   'character'cat79\n",
       ":   'character'cat80\n",
       ":   'character'cat81\n",
       ":   'character'cat82\n",
       ":   'character'cat83\n",
       ":   'character'cat84\n",
       ":   'character'cat85\n",
       ":   'character'cat86\n",
       ":   'character'cat87\n",
       ":   'character'cat88\n",
       ":   'character'cat89\n",
       ":   'character'cat90\n",
       ":   'character'cat91\n",
       ":   'character'cat92\n",
       ":   'character'cat93\n",
       ":   'character'cat94\n",
       ":   'character'cat95\n",
       ":   'character'cat96\n",
       ":   'character'cat97\n",
       ":   'character'cat98\n",
       ":   'character'cat99\n",
       ":   'character'cat100\n",
       ":   'character'cat101\n",
       ":   'character'cat102\n",
       ":   'character'cat103\n",
       ":   'character'cat104\n",
       ":   'character'cat105\n",
       ":   'character'cat106\n",
       ":   'character'cat107\n",
       ":   'character'cat108\n",
       ":   'character'cat109\n",
       ":   'character'cat110\n",
       ":   'character'cat111\n",
       ":   'character'cat112\n",
       ":   'character'cat113\n",
       ":   'character'cat114\n",
       ":   'character'cat115\n",
       ":   'character'cat116\n",
       ":   'character'cont1\n",
       ":   'numeric'cont2\n",
       ":   'numeric'cont3\n",
       ":   'numeric'cont4\n",
       ":   'numeric'cont5\n",
       ":   'numeric'cont6\n",
       ":   'numeric'cont7\n",
       ":   'numeric'cont8\n",
       ":   'numeric'cont9\n",
       ":   'numeric'cont10\n",
       ":   'numeric'cont11\n",
       ":   'numeric'cont12\n",
       ":   'numeric'cont13\n",
       ":   'numeric'cont14\n",
       ":   'numeric'loss\n",
       ":   'numeric'\n",
       "\n"
      ],
      "text/plain": [
       "         id        cat1        cat2        cat3        cat4        cat5 \n",
       "  \"integer\" \"character\" \"character\" \"character\" \"character\" \"character\" \n",
       "       cat6        cat7        cat8        cat9       cat10       cat11 \n",
       "\"character\" \"character\" \"character\" \"character\" \"character\" \"character\" \n",
       "      cat12       cat13       cat14       cat15       cat16       cat17 \n",
       "\"character\" \"character\" \"character\" \"character\" \"character\" \"character\" \n",
       "      cat18       cat19       cat20       cat21       cat22       cat23 \n",
       "\"character\" \"character\" \"character\" \"character\" \"character\" \"character\" \n",
       "      cat24       cat25       cat26       cat27       cat28       cat29 \n",
       "\"character\" \"character\" \"character\" \"character\" \"character\" \"character\" \n",
       "      cat30       cat31       cat32       cat33       cat34       cat35 \n",
       "\"character\" \"character\" \"character\" \"character\" \"character\" \"character\" \n",
       "      cat36       cat37       cat38       cat39       cat40       cat41 \n",
       "\"character\" \"character\" \"character\" \"character\" \"character\" \"character\" \n",
       "      cat42       cat43       cat44       cat45       cat46       cat47 \n",
       "\"character\" \"character\" \"character\" \"character\" \"character\" \"character\" \n",
       "      cat48       cat49       cat50       cat51       cat52       cat53 \n",
       "\"character\" \"character\" \"character\" \"character\" \"character\" \"character\" \n",
       "      cat54       cat55       cat56       cat57       cat58       cat59 \n",
       "\"character\" \"character\" \"character\" \"character\" \"character\" \"character\" \n",
       "      cat60       cat61       cat62       cat63       cat64       cat65 \n",
       "\"character\" \"character\" \"character\" \"character\" \"character\" \"character\" \n",
       "      cat66       cat67       cat68       cat69       cat70       cat71 \n",
       "\"character\" \"character\" \"character\" \"character\" \"character\" \"character\" \n",
       "      cat72       cat73       cat74       cat75       cat76       cat77 \n",
       "\"character\" \"character\" \"character\" \"character\" \"character\" \"character\" \n",
       "      cat78       cat79       cat80       cat81       cat82       cat83 \n",
       "\"character\" \"character\" \"character\" \"character\" \"character\" \"character\" \n",
       "      cat84       cat85       cat86       cat87       cat88       cat89 \n",
       "\"character\" \"character\" \"character\" \"character\" \"character\" \"character\" \n",
       "      cat90       cat91       cat92       cat93       cat94       cat95 \n",
       "\"character\" \"character\" \"character\" \"character\" \"character\" \"character\" \n",
       "      cat96       cat97       cat98       cat99      cat100      cat101 \n",
       "\"character\" \"character\" \"character\" \"character\" \"character\" \"character\" \n",
       "     cat102      cat103      cat104      cat105      cat106      cat107 \n",
       "\"character\" \"character\" \"character\" \"character\" \"character\" \"character\" \n",
       "     cat108      cat109      cat110      cat111      cat112      cat113 \n",
       "\"character\" \"character\" \"character\" \"character\" \"character\" \"character\" \n",
       "     cat114      cat115      cat116       cont1       cont2       cont3 \n",
       "\"character\" \"character\" \"character\"   \"numeric\"   \"numeric\"   \"numeric\" \n",
       "      cont4       cont5       cont6       cont7       cont8       cont9 \n",
       "  \"numeric\"   \"numeric\"   \"numeric\"   \"numeric\"   \"numeric\"   \"numeric\" \n",
       "     cont10      cont11      cont12      cont13      cont14        loss \n",
       "  \"numeric\"   \"numeric\"   \"numeric\"   \"numeric\"   \"numeric\"   \"numeric\" "
      ]
     },
     "metadata": {},
     "output_type": "display_data"
    }
   ],
   "source": [
    "sapply(train, class) # data types of each feature"
   ]
  },
  {
   "cell_type": "code",
   "execution_count": 55,
   "metadata": {},
   "outputs": [],
   "source": [
    "# Conversion of types from character to factor in categories variables \n",
    "col_names = list()\n",
    "for (nam in 2:117){\n",
    "  #col_names[[nam - 1]] <- cat(\"cat\",nam)\n",
    "  col_names[[nam - 1]] <- paste(\"cat\", nam-1, sep=\"\")\n",
    "}\n",
    "train = setDF(train)"
   ]
  },
  {
   "cell_type": "code",
   "execution_count": 58,
   "metadata": {},
   "outputs": [
    {
     "name": "stderr",
     "output_type": "stream",
     "text": [
      "IOPub data rate exceeded.\n",
      "The notebook server will temporarily stop sending output\n",
      "to the client in order to avoid crashing it.\n",
      "To change this limit, set the config variable\n",
      "`--NotebookApp.iopub_data_rate_limit`.\n"
     ]
    }
   ],
   "source": [
    "train[col_names] <- lapply(train[unlist(col_names)] , factor)"
   ]
  },
  {
   "cell_type": "markdown",
   "metadata": {},
   "source": [
    "### Check for missing values"
   ]
  },
  {
   "cell_type": "code",
   "execution_count": null,
   "metadata": {},
   "outputs": [],
   "source": [
    "if (sum(is.nan(as.matrix(train)))==0){\n",
    "    print('No Values Missing')\n",
    "}"
   ]
  },
  {
   "cell_type": "markdown",
   "metadata": {},
   "source": [
    "### Descriptive Statistics"
   ]
  },
  {
   "cell_type": "code",
   "execution_count": 12,
   "metadata": {},
   "outputs": [
    {
     "data": {
      "text/plain": [
       "       id             cat1               cat2               cat3          \n",
       " Min.   :     1   Length:188318      Length:188318      Length:188318     \n",
       " 1st Qu.:147748   Class :character   Class :character   Class :character  \n",
       " Median :294540   Mode  :character   Mode  :character   Mode  :character  \n",
       " Mean   :294136                                                           \n",
       " 3rd Qu.:440680                                                           \n",
       " Max.   :587633                                                           \n",
       "     cat4               cat5               cat6               cat7          \n",
       " Length:188318      Length:188318      Length:188318      Length:188318     \n",
       " Class :character   Class :character   Class :character   Class :character  \n",
       " Mode  :character   Mode  :character   Mode  :character   Mode  :character  \n",
       "                                                                            \n",
       "                                                                            \n",
       "                                                                            \n",
       "     cat8               cat9              cat10              cat11          \n",
       " Length:188318      Length:188318      Length:188318      Length:188318     \n",
       " Class :character   Class :character   Class :character   Class :character  \n",
       " Mode  :character   Mode  :character   Mode  :character   Mode  :character  \n",
       "                                                                            \n",
       "                                                                            \n",
       "                                                                            \n",
       "    cat12              cat13              cat14              cat15          \n",
       " Length:188318      Length:188318      Length:188318      Length:188318     \n",
       " Class :character   Class :character   Class :character   Class :character  \n",
       " Mode  :character   Mode  :character   Mode  :character   Mode  :character  \n",
       "                                                                            \n",
       "                                                                            \n",
       "                                                                            \n",
       "    cat16              cat17              cat18              cat19          \n",
       " Length:188318      Length:188318      Length:188318      Length:188318     \n",
       " Class :character   Class :character   Class :character   Class :character  \n",
       " Mode  :character   Mode  :character   Mode  :character   Mode  :character  \n",
       "                                                                            \n",
       "                                                                            \n",
       "                                                                            \n",
       "    cat20              cat21              cat22              cat23          \n",
       " Length:188318      Length:188318      Length:188318      Length:188318     \n",
       " Class :character   Class :character   Class :character   Class :character  \n",
       " Mode  :character   Mode  :character   Mode  :character   Mode  :character  \n",
       "                                                                            \n",
       "                                                                            \n",
       "                                                                            \n",
       "    cat24              cat25              cat26              cat27          \n",
       " Length:188318      Length:188318      Length:188318      Length:188318     \n",
       " Class :character   Class :character   Class :character   Class :character  \n",
       " Mode  :character   Mode  :character   Mode  :character   Mode  :character  \n",
       "                                                                            \n",
       "                                                                            \n",
       "                                                                            \n",
       "    cat28              cat29              cat30              cat31          \n",
       " Length:188318      Length:188318      Length:188318      Length:188318     \n",
       " Class :character   Class :character   Class :character   Class :character  \n",
       " Mode  :character   Mode  :character   Mode  :character   Mode  :character  \n",
       "                                                                            \n",
       "                                                                            \n",
       "                                                                            \n",
       "    cat32              cat33              cat34              cat35          \n",
       " Length:188318      Length:188318      Length:188318      Length:188318     \n",
       " Class :character   Class :character   Class :character   Class :character  \n",
       " Mode  :character   Mode  :character   Mode  :character   Mode  :character  \n",
       "                                                                            \n",
       "                                                                            \n",
       "                                                                            \n",
       "    cat36              cat37              cat38              cat39          \n",
       " Length:188318      Length:188318      Length:188318      Length:188318     \n",
       " Class :character   Class :character   Class :character   Class :character  \n",
       " Mode  :character   Mode  :character   Mode  :character   Mode  :character  \n",
       "                                                                            \n",
       "                                                                            \n",
       "                                                                            \n",
       "    cat40              cat41              cat42              cat43          \n",
       " Length:188318      Length:188318      Length:188318      Length:188318     \n",
       " Class :character   Class :character   Class :character   Class :character  \n",
       " Mode  :character   Mode  :character   Mode  :character   Mode  :character  \n",
       "                                                                            \n",
       "                                                                            \n",
       "                                                                            \n",
       "    cat44              cat45              cat46              cat47          \n",
       " Length:188318      Length:188318      Length:188318      Length:188318     \n",
       " Class :character   Class :character   Class :character   Class :character  \n",
       " Mode  :character   Mode  :character   Mode  :character   Mode  :character  \n",
       "                                                                            \n",
       "                                                                            \n",
       "                                                                            \n",
       "    cat48              cat49              cat50              cat51          \n",
       " Length:188318      Length:188318      Length:188318      Length:188318     \n",
       " Class :character   Class :character   Class :character   Class :character  \n",
       " Mode  :character   Mode  :character   Mode  :character   Mode  :character  \n",
       "                                                                            \n",
       "                                                                            \n",
       "                                                                            \n",
       "    cat52              cat53              cat54              cat55          \n",
       " Length:188318      Length:188318      Length:188318      Length:188318     \n",
       " Class :character   Class :character   Class :character   Class :character  \n",
       " Mode  :character   Mode  :character   Mode  :character   Mode  :character  \n",
       "                                                                            \n",
       "                                                                            \n",
       "                                                                            \n",
       "    cat56              cat57              cat58              cat59          \n",
       " Length:188318      Length:188318      Length:188318      Length:188318     \n",
       " Class :character   Class :character   Class :character   Class :character  \n",
       " Mode  :character   Mode  :character   Mode  :character   Mode  :character  \n",
       "                                                                            \n",
       "                                                                            \n",
       "                                                                            \n",
       "    cat60              cat61              cat62              cat63          \n",
       " Length:188318      Length:188318      Length:188318      Length:188318     \n",
       " Class :character   Class :character   Class :character   Class :character  \n",
       " Mode  :character   Mode  :character   Mode  :character   Mode  :character  \n",
       "                                                                            \n",
       "                                                                            \n",
       "                                                                            \n",
       "    cat64              cat65              cat66              cat67          \n",
       " Length:188318      Length:188318      Length:188318      Length:188318     \n",
       " Class :character   Class :character   Class :character   Class :character  \n",
       " Mode  :character   Mode  :character   Mode  :character   Mode  :character  \n",
       "                                                                            \n",
       "                                                                            \n",
       "                                                                            \n",
       "    cat68              cat69              cat70              cat71          \n",
       " Length:188318      Length:188318      Length:188318      Length:188318     \n",
       " Class :character   Class :character   Class :character   Class :character  \n",
       " Mode  :character   Mode  :character   Mode  :character   Mode  :character  \n",
       "                                                                            \n",
       "                                                                            \n",
       "                                                                            \n",
       "    cat72              cat73              cat74              cat75          \n",
       " Length:188318      Length:188318      Length:188318      Length:188318     \n",
       " Class :character   Class :character   Class :character   Class :character  \n",
       " Mode  :character   Mode  :character   Mode  :character   Mode  :character  \n",
       "                                                                            \n",
       "                                                                            \n",
       "                                                                            \n",
       "    cat76              cat77              cat78              cat79          \n",
       " Length:188318      Length:188318      Length:188318      Length:188318     \n",
       " Class :character   Class :character   Class :character   Class :character  \n",
       " Mode  :character   Mode  :character   Mode  :character   Mode  :character  \n",
       "                                                                            \n",
       "                                                                            \n",
       "                                                                            \n",
       "    cat80              cat81              cat82              cat83          \n",
       " Length:188318      Length:188318      Length:188318      Length:188318     \n",
       " Class :character   Class :character   Class :character   Class :character  \n",
       " Mode  :character   Mode  :character   Mode  :character   Mode  :character  \n",
       "                                                                            \n",
       "                                                                            \n",
       "                                                                            \n",
       "    cat84              cat85              cat86              cat87          \n",
       " Length:188318      Length:188318      Length:188318      Length:188318     \n",
       " Class :character   Class :character   Class :character   Class :character  \n",
       " Mode  :character   Mode  :character   Mode  :character   Mode  :character  \n",
       "                                                                            \n",
       "                                                                            \n",
       "                                                                            \n",
       "    cat88              cat89              cat90              cat91          \n",
       " Length:188318      Length:188318      Length:188318      Length:188318     \n",
       " Class :character   Class :character   Class :character   Class :character  \n",
       " Mode  :character   Mode  :character   Mode  :character   Mode  :character  \n",
       "                                                                            \n",
       "                                                                            \n",
       "                                                                            \n",
       "    cat92              cat93              cat94              cat95          \n",
       " Length:188318      Length:188318      Length:188318      Length:188318     \n",
       " Class :character   Class :character   Class :character   Class :character  \n",
       " Mode  :character   Mode  :character   Mode  :character   Mode  :character  \n",
       "                                                                            \n",
       "                                                                            \n",
       "                                                                            \n",
       "    cat96              cat97              cat98              cat99          \n",
       " Length:188318      Length:188318      Length:188318      Length:188318     \n",
       " Class :character   Class :character   Class :character   Class :character  \n",
       " Mode  :character   Mode  :character   Mode  :character   Mode  :character  \n",
       "                                                                            \n",
       "                                                                            \n",
       "                                                                            \n",
       "    cat100             cat101             cat102             cat103         \n",
       " Length:188318      Length:188318      Length:188318      Length:188318     \n",
       " Class :character   Class :character   Class :character   Class :character  \n",
       " Mode  :character   Mode  :character   Mode  :character   Mode  :character  \n",
       "                                                                            \n",
       "                                                                            \n",
       "                                                                            \n",
       "    cat104             cat105             cat106             cat107         \n",
       " Length:188318      Length:188318      Length:188318      Length:188318     \n",
       " Class :character   Class :character   Class :character   Class :character  \n",
       " Mode  :character   Mode  :character   Mode  :character   Mode  :character  \n",
       "                                                                            \n",
       "                                                                            \n",
       "                                                                            \n",
       "    cat108             cat109             cat110             cat111         \n",
       " Length:188318      Length:188318      Length:188318      Length:188318     \n",
       " Class :character   Class :character   Class :character   Class :character  \n",
       " Mode  :character   Mode  :character   Mode  :character   Mode  :character  \n",
       "                                                                            \n",
       "                                                                            \n",
       "                                                                            \n",
       "    cat112             cat113             cat114             cat115         \n",
       " Length:188318      Length:188318      Length:188318      Length:188318     \n",
       " Class :character   Class :character   Class :character   Class :character  \n",
       " Mode  :character   Mode  :character   Mode  :character   Mode  :character  \n",
       "                                                                            \n",
       "                                                                            \n",
       "                                                                            \n",
       "    cat116              cont1              cont2              cont3         \n",
       " Length:188318      Min.   :0.000016   Min.   :0.001149   Min.   :0.002634  \n",
       " Class :character   1st Qu.:0.346090   1st Qu.:0.358319   1st Qu.:0.336963  \n",
       " Mode  :character   Median :0.475784   Median :0.555782   Median :0.527991  \n",
       "                    Mean   :0.493861   Mean   :0.507188   Mean   :0.498918  \n",
       "                    3rd Qu.:0.623912   3rd Qu.:0.681761   3rd Qu.:0.634224  \n",
       "                    Max.   :0.984975   Max.   :0.862654   Max.   :0.944251  \n",
       "     cont4            cont5            cont6             cont7       \n",
       " Min.   :0.1769   Min.   :0.2811   Min.   :0.01268   Min.   :0.0695  \n",
       " 1st Qu.:0.3274   1st Qu.:0.2811   1st Qu.:0.33610   1st Qu.:0.3502  \n",
       " Median :0.4529   Median :0.4223   Median :0.44094   Median :0.4383  \n",
       " Mean   :0.4918   Mean   :0.4874   Mean   :0.49094   Mean   :0.4850  \n",
       " 3rd Qu.:0.6521   3rd Qu.:0.6433   3rd Qu.:0.65502   3rd Qu.:0.5910  \n",
       " Max.   :0.9543   Max.   :0.9837   Max.   :0.99716   Max.   :1.0000  \n",
       "     cont8            cont9             cont10           cont11       \n",
       " Min.   :0.2369   Min.   :0.00008   Min.   :0.0000   Min.   :0.03532  \n",
       " 1st Qu.:0.3128   1st Qu.:0.35897   1st Qu.:0.3646   1st Qu.:0.31096  \n",
       " Median :0.4411   Median :0.44145   Median :0.4612   Median :0.45720  \n",
       " Mean   :0.4864   Mean   :0.48551   Mean   :0.4981   Mean   :0.49351  \n",
       " 3rd Qu.:0.6236   3rd Qu.:0.56682   3rd Qu.:0.6146   3rd Qu.:0.67892  \n",
       " Max.   :0.9802   Max.   :0.99540   Max.   :0.9950   Max.   :0.99874  \n",
       "     cont12            cont13             cont14            loss          \n",
       " Min.   :0.03623   Min.   :0.000228   Min.   :0.1797   Min.   :     0.67  \n",
       " 1st Qu.:0.31166   1st Qu.:0.315758   1st Qu.:0.2946   1st Qu.:  1204.46  \n",
       " Median :0.46229   Median :0.363547   Median :0.4074   Median :  2115.57  \n",
       " Mean   :0.49315   Mean   :0.493138   Mean   :0.4957   Mean   :  3037.34  \n",
       " 3rd Qu.:0.67576   3rd Qu.:0.689974   3rd Qu.:0.7246   3rd Qu.:  3864.05  \n",
       " Max.   :0.99848   Max.   :0.988494   Max.   :0.8448   Max.   :121012.25  "
      ]
     },
     "metadata": {},
     "output_type": "display_data"
    }
   ],
   "source": [
    "summary(train)"
   ]
  },
  {
   "cell_type": "code",
   "execution_count": null,
   "metadata": {
    "collapsed": true
   },
   "outputs": [],
   "source": [
    "# This calculates the standard deviation for each numeric attribute in the dataset.\n",
    "sapply(train[,118:131], sd)"
   ]
  },
  {
   "cell_type": "code",
   "execution_count": null,
   "metadata": {
    "collapsed": true
   },
   "outputs": [],
   "source": [
    "skew <- apply(PimaIndiansDiabetes[,1:8], 2, skewness)\n",
    "print(skew)"
   ]
  },
  {
   "cell_type": "markdown",
   "metadata": {
    "collapsed": true
   },
   "source": [
    "### Visualizaton: Distribution of features"
   ]
  },
  {
   "cell_type": "markdown",
   "metadata": {},
   "source": [
    "*Section has great potential for expansion.* \n",
    "\n",
    "Visualization techniques differ depending on the type of the feature vector (i.e. numerical: continuous or discrete, categorical: ordinal etc). Techniques will also depend on the type of data being dealt with, and the insight that we want to extract from it. \n",
    "\n",
    "Common visualization techniques include:\n",
    "- Bar Plots: Visualize the frequency distribution of categorical features.\n",
    "- Histograms: Visualize the frequency distribution of numerical features.\n",
    "- Box Plots: Visualize a numerical feature, while providing more information like the median, lower/upper quantiles etc..\n",
    "- Scatter Plots: Visualize the relationship (usually the correlation) between two features. Can include a goodness of fit line, to serve as a regression plot."
   ]
  },
  {
   "cell_type": "code",
   "execution_count": null,
   "metadata": {},
   "outputs": [],
   "source": [
    "#extract continuous variables\n",
    "dfCont = data.frame(row.names=1:nrow(train))\n",
    "for(i in 1:length(train)){\n",
    "    if (sapply(train[i], is.numeric) == TRUE){\n",
    "        #contCol = list.append(contCol,head(df[i],n=0))\n",
    "        dfCont = cbind(dfCont,train[i])\n",
    "        }\n",
    "    }\n",
    "\n",
    "#draw boxplots for them\n",
    "#delete loss column or else huge outliers there\n",
    "dfCont[length(dfCont)] = NULL\n",
    "boxplot(dfCont, las=2, main=\"Continuous data boxplots\", col=c(\"red\",\"sienna\",\"palevioletred1\",\"royalblue2\",\"red\",\"sienna\",\"palevioletred1\",\"royalblue2\",\"red\",\"sienna\",\"palevioletred1\",\"royalblue2\"))\n",
    "\n",
    "\n",
    "#correlation between continuous features including loss\n",
    "scaled.dfCont = scale(dfCont)     #normalize\n",
    "#zVar <- (corrM - mean(corrM)) / sd(corrM)     #z-transformation\n",
    "corrM = cor(dfCont)\n",
    "library(corrplot)\n",
    "corrplot(corrM, method=\"number\")\n",
    "\n",
    "##check if the loss column has normal distribution - yes it has\n",
    "x = dfCont['loss']\n",
    "x = seq(x[-1,])\n",
    "y = dnorm(x, mean = mean(x), sd = sd(x))\n",
    "plot(x,y)\n",
    "\n",
    "#apply lognormal to reduce the scale and control negative values\n",
    "y = dnorm(log(x), mean = mean(log(x)), sd = sd(log(x)))\n",
    "plot(log(x),y)\n",
    "\n",
    "#get the categorical values\n",
    "dfAlph = data.frame(row.names=1:nrow(df))\n",
    "for(i in 1:length(train)){\n",
    "    if (sapply(train[i], is.numeric) == FALSE){\n",
    "        #contCol = list.append(contCol,head(df[i],n=0))\n",
    "        dfAlph = cbind(dfAlph,train[i])\n",
    "        }\n",
    "    }\n"
   ]
  },
  {
   "cell_type": "markdown",
   "metadata": {},
   "source": [
    "### Investigating correlations between features"
   ]
  },
  {
   "cell_type": "markdown",
   "metadata": {},
   "source": [
    "### Visualizing prediction vector"
   ]
  },
  {
   "cell_type": "markdown",
   "metadata": {},
   "source": [
    "### Investigating missing values"
   ]
  },
  {
   "cell_type": "markdown",
   "metadata": {},
   "source": [
    "### Outlier Detection"
   ]
  },
  {
   "cell_type": "markdown",
   "metadata": {},
   "source": [
    "The presence of outliers can often skew results which take into consideration these data points. \n",
    "\n",
    "One approach to detect outliers is to use Tukey's Method for identfying them: An outlier step is calculated as 1.5 times the interquartile range (IQR). A data point with a feature that is beyond an outlier step outside of the IQR for that feature is considered abnormal."
   ]
  },
  {
   "cell_type": "markdown",
   "metadata": {},
   "source": [
    "## 4. Data Cleaning"
   ]
  },
  {
   "cell_type": "markdown",
   "metadata": {},
   "source": [
    "### Imputing missing values"
   ]
  },
  {
   "cell_type": "markdown",
   "metadata": {},
   "source": [
    "### Cleaning outliers or error values"
   ]
  },
  {
   "cell_type": "markdown",
   "metadata": {},
   "source": [
    "## 5. Feature Engineering"
   ]
  },
  {
   "cell_type": "markdown",
   "metadata": {},
   "source": [
    "Section to extract more features from those currently available."
   ]
  },
  {
   "cell_type": "markdown",
   "metadata": {},
   "source": [
    "## 6. Data Transformation and Preparation"
   ]
  },
  {
   "cell_type": "markdown",
   "metadata": {},
   "source": [
    "### Transforming Skewed Continous Features "
   ]
  },
  {
   "cell_type": "markdown",
   "metadata": {},
   "source": [
    "It is common practice to apply a logarthmic transformation to highly skewed continuous feature distributions."
   ]
  },
  {
   "cell_type": "markdown",
   "metadata": {},
   "source": [
    "### Normalizing Numerical Features "
   ]
  },
  {
   "cell_type": "markdown",
   "metadata": {},
   "source": [
    "Another common practice is to perform some type of scaling on numerical features. Applying scaling doesn't change the shape of each feature's distribution; but ensures that each feature is treated equally when applying supervised learners."
   ]
  },
  {
   "cell_type": "markdown",
   "metadata": {},
   "source": [
    "### One Hot Encoding Categorical Features"
   ]
  },
  {
   "cell_type": "markdown",
   "metadata": {},
   "source": [
    "It is encouraged to create a pipeline function for data preprocessing, rather than separate script blocks."
   ]
  },
  {
   "cell_type": "markdown",
   "metadata": {},
   "source": [
    "### Shuffle and Split Data"
   ]
  },
  {
   "cell_type": "markdown",
   "metadata": {},
   "source": [
    "## 7. Model Exploration"
   ]
  },
  {
   "cell_type": "markdown",
   "metadata": {},
   "source": [
    "### Naive Predictor Performance"
   ]
  },
  {
   "cell_type": "markdown",
   "metadata": {},
   "source": [
    "To set a baseline for the performance of the predictor. \n",
    "\n",
    "Common techniques:\n",
    "- For categorical prediction vector, choose the most common class\n",
    "- For numerical prediction vector, choose a measure of central tendency\n",
    "\n",
    "Then calculate the evalation metric (accuracy, f-score etc)"
   ]
  },
  {
   "cell_type": "markdown",
   "metadata": {},
   "source": [
    "### Choosing scoring metrics"
   ]
  },
  {
   "cell_type": "markdown",
   "metadata": {},
   "source": [
    "### Creating a Training and Prediction Pipeling"
   ]
  },
  {
   "cell_type": "markdown",
   "metadata": {
    "collapsed": true
   },
   "source": [
    "### Model Evaluation"
   ]
  },
  {
   "cell_type": "markdown",
   "metadata": {},
   "source": [
    "## 8. Final Model Building"
   ]
  },
  {
   "cell_type": "markdown",
   "metadata": {},
   "source": [
    "Using grid search (GridSearchCV) with different parameter/value combinations, we can tune our model for even better results."
   ]
  },
  {
   "cell_type": "markdown",
   "metadata": {},
   "source": [
    "Next steps can include feature importance extraction, predictions on the test set.. etc"
   ]
  },
  {
   "cell_type": "markdown",
   "metadata": {},
   "source": [
    "## 9. Predictions on Test Set"
   ]
  },
  {
   "cell_type": "code",
   "execution_count": null,
   "metadata": {
    "collapsed": true
   },
   "outputs": [],
   "source": []
  }
 ],
 "metadata": {
  "anaconda-cloud": {},
  "kernelspec": {
   "display_name": "R",
   "language": "R",
   "name": "ir"
  },
  "language_info": {
   "codemirror_mode": "r",
   "file_extension": ".r",
   "mimetype": "text/x-r-source",
   "name": "R",
   "pygments_lexer": "r",
   "version": "3.4.3"
  }
 },
 "nbformat": 4,
 "nbformat_minor": 1
}
